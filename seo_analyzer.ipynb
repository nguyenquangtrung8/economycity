{
 "cells": [
  {
   "cell_type": "code",
   "execution_count": null,
   "metadata": {},
   "outputs": [],
   "source": [
    "!pip install -U hf-seo-analyzer"
   ]
  },
  {
   "cell_type": "code",
   "execution_count": 2,
   "metadata": {},
   "outputs": [],
   "source": [
    "# Create the config.yaml file\n",
    "with open('config.yaml', 'w') as f:\n",
    "  f.write('endpoint: \"https://thinh-vu-markdown-seo.hf.space/analyze\"\\n')\n",
    "  f.write('api_key: \"learn-anything-docusaurus\"\\n')"
   ]
  },
  {
   "cell_type": "code",
   "execution_count": 5,
   "metadata": {},
   "outputs": [
    {
     "name": "stdout",
     "output_type": "stream",
     "text": [
      "Analyzing /workspaces/simple_docusaurus/docs/mindset/nguyen-tac-kim-tu-thap.md...\n",
      "✨ Báo cáo đã được lưu tại: /workspaces/simple_docusaurus/seo-report/nguyen-tac-kim-tu-thap_seo_report.md\n"
     ]
    }
   ],
   "source": [
    "!python3 -m hf_seo_analyzer.cli /workspaces/simple_docusaurus/docs/mindset/nguyen-tac-kim-tu-thap.md"
   ]
  }
 ],
 "metadata": {
  "kernelspec": {
   "display_name": "Python 3",
   "language": "python",
   "name": "python3"
  },
  "language_info": {
   "codemirror_mode": {
    "name": "ipython",
    "version": 3
   },
   "file_extension": ".py",
   "mimetype": "text/x-python",
   "name": "python",
   "nbconvert_exporter": "python",
   "pygments_lexer": "ipython3",
   "version": "3.12.1"
  }
 },
 "nbformat": 4,
 "nbformat_minor": 2
}
